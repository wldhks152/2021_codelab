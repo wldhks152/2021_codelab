{
  "nbformat": 4,
  "nbformat_minor": 0,
  "metadata": {
    "colab": {
      "name": "06_codelab2_urllib.ipynb",
      "provenance": [],
      "include_colab_link": true
    },
    "interpreter": {
      "hash": "b3ba2566441a7c06988d0923437866b63cedc61552a5af99d1f4fb67d367b25f"
    },
    "kernelspec": {
      "display_name": "Python 3.8.5 64-bit ('base': conda)",
      "name": "python3"
    },
    "language_info": {
      "name": "python",
      "version": ""
    }
  },
  "cells": [
    {
      "cell_type": "markdown",
      "metadata": {
        "id": "view-in-github",
        "colab_type": "text"
      },
      "source": [
        "<a href=\"https://colab.research.google.com/github/wldhks152/2021_codelab/blob/main/02_codelab2_urllib.ipynb\" target=\"_parent\"><img src=\"https://colab.research.google.com/assets/colab-badge.svg\" alt=\"Open In Colab\"/></a>"
      ]
    },
    {
      "cell_type": "markdown",
      "metadata": {
        "id": "7moL-iWT_MUw"
      },
      "source": [
        "# urllib 모듈\n",
        "+ URL과 웹 요청에 관련된 모듈들 패키지로 묶어 제공"
      ]
    },
    {
      "cell_type": "markdown",
      "metadata": {
        "id": "P2nLzn8h_P2L"
      },
      "source": [
        "## urllib.request 모듈\n",
        "* 웹 페이지 요청 및 데이터를 가져올 수 있음"
      ]
    },
    {
      "cell_type": "markdown",
      "metadata": {
        "id": "SiBFl2GU_ih3"
      },
      "source": [
        "### urllib.request.urlopen(url, data)\n",
        "* 웹 서버에 정보를 요청한 후, 돌려받은 응답을 저장하여 ‘**응답 객체(HTTPResponse)**’를 반환\n",
        "* data는 서버로 전송할 추가 데이터를 지정하는 객체\n",
        "* 반환된 응답 객체:  read() 메서드를 실행\n",
        "   - 웹 서버가 응답한 데이터를 바이트 배열로 읽어들임\n",
        "   - 읽어들인 바이트 배열 : 이진수로 이루어진 수열이어서 **텍스트 형식의 데이터를 decode('utf-8') 메서드를 실행하여 문자열로 변환**\n",
        "\n",
        "* 참고) **Byte 데이터**\n",
        "  + 1바이트(0~255사이 코드)로 표현되는 문자 표현\n",
        "  + 문자열에서 사용하는 연산을 거의 제공\n",
        "    - 인덱싱/슬라이싱, in, Upper(), Split()\n",
        "  + 지원 메소드\n",
        "    - **decode(인코딩값)** : 바이트->문자열로 변환  \n",
        "    - **encode()** : 문자열->바이트로 변환  \n"
      ]
    },
    {
      "cell_type": "markdown",
      "metadata": {
        "id": "Ji2KEhafDwtU"
      },
      "source": [
        "### urllib.request.Request(url, headers={})\n",
        "* POST방식으로 데이터를 보내려고 할 경우 \n",
        "  + URL : 요청 주소\n",
        "  * headers : 딕셔너리형태의 헤더"
      ]
    },
    {
      "cell_type": "code",
      "metadata": {
        "id": "pPOHa5HA-7W0"
      },
      "source": [
        "from urllib.request import Request, urlopen\n",
        "import json  "
      ],
      "execution_count": 2,
      "outputs": []
    },
    {
      "cell_type": "markdown",
      "metadata": {
        "id": "VEuJKvjNFpkM"
      },
      "source": [
        "+ AI Cloud의 개발 가이드 참고 : <https://www.saltlux.ai/console/service/apidetail?id=category14&tab=service-tab-all>"
      ]
    },
    {
      "cell_type": "code",
      "metadata": {
        "id": "lWmOfcPfEkcG"
      },
      "source": [
        "url =  \"http://svc.saltlux.ai:31781\"\n",
        "headers={\"Content-Type\":\"application/json\" } \n",
        "\n",
        "apiKey =  \"506c805b-404b-4996-a2a6-517bae96c052\"\n",
        "msg = \"한국의 가을은 아름답습니다.\"\n",
        "rqData = {\n",
        "    \"key\": apiKey,\n",
        "    \"serviceId\": 11987300804,\n",
        "    \"argument\": {\n",
        "        \"type\": \"1\",\n",
        "        \"query\": msg\n",
        "    }\n",
        "}"
      ],
      "execution_count": 31,
      "outputs": []
    },
    {
      "cell_type": "code",
      "metadata": {
        "id": "ZgqhqW3fwUmq",
        "outputId": "99064eb8-739d-4c82-839e-09cac8076e61",
        "colab": {
          "base_uri": "https://localhost:8080/"
        }
      },
      "source": [
        "rqData"
      ],
      "execution_count": 32,
      "outputs": [
        {
          "output_type": "execute_result",
          "data": {
            "text/plain": [
              "{'argument': {'query': '한국의 가을은 아름답습니다.', 'type': '1'},\n",
              " 'key': '506c805b-404b-4996-a2a6-517bae96c052',\n",
              " 'serviceId': 11987300804}"
            ]
          },
          "metadata": {
            "tags": []
          },
          "execution_count": 32
        }
      ]
    },
    {
      "cell_type": "code",
      "metadata": {
        "id": "ecg0r51ywZ8H",
        "outputId": "1b235a96-e0b1-40f8-c1b2-d0d4965c0474",
        "colab": {
          "base_uri": "https://localhost:8080/"
        }
      },
      "source": [
        "type(rqData)"
      ],
      "execution_count": 33,
      "outputs": [
        {
          "output_type": "execute_result",
          "data": {
            "text/plain": [
              "dict"
            ]
          },
          "metadata": {
            "tags": []
          },
          "execution_count": 33
        }
      ]
    },
    {
      "cell_type": "code",
      "metadata": {
        "id": "hJJVQnz1EsmF"
      },
      "source": [
        "# 요청 객체 생성\n",
        "req = Request(url, headers = headers)\n",
        "\n",
        "# 전달 데이터 json 형태로 만들기\n",
        "jdata = json.dumps(rqData).encode('utf-8')\n",
        "\n",
        "#요청\n",
        "response = urlopen(req, jdata)"
      ],
      "execution_count": 34,
      "outputs": []
    },
    {
      "cell_type": "code",
      "metadata": {
        "colab": {
          "base_uri": "https://localhost:8080/"
        },
        "id": "5hd-rKdlB3om",
        "outputId": "aa6022b0-cc07-4a87-a5d4-af6645b68c51"
      },
      "source": [
        "response "
      ],
      "execution_count": 35,
      "outputs": [
        {
          "output_type": "execute_result",
          "data": {
            "text/plain": [
              "<http.client.HTTPResponse at 0x7f31e9d7db10>"
            ]
          },
          "metadata": {
            "tags": []
          },
          "execution_count": 35
        }
      ]
    },
    {
      "cell_type": "code",
      "metadata": {
        "colab": {
          "base_uri": "https://localhost:8080/"
        },
        "id": "zCger518B_Gq",
        "outputId": "ce83316c-11b4-40db-f1a1-07eaee581234"
      },
      "source": [
        "response.read()"
      ],
      "execution_count": 36,
      "outputs": [
        {
          "output_type": "execute_result",
          "data": {
            "text/plain": [
              "b'{\"query\": \"\\xed\\x95\\x9c\\xea\\xb5\\xad\\xec\\x9d\\x98 \\xea\\xb0\\x80\\xec\\x9d\\x84\\xec\\x9d\\x80 \\xec\\x95\\x84\\xeb\\xa6\\x84\\xeb\\x8b\\xb5\\xec\\x8a\\xb5\\xeb\\x8b\\x88\\xeb\\x8b\\xa4.\", \"type\": \"\\xea\\xb0\\x90\\xec\\xa0\\x95\\xeb\\xb6\\x84\\xec\\x84\\x9d\", \"Result\": [[0.9722212553024292, \"\\xec\\x8b\\xa0\\xeb\\xa2\\xb0\"]]}'"
            ]
          },
          "metadata": {
            "tags": []
          },
          "execution_count": 36
        }
      ]
    },
    {
      "cell_type": "code",
      "metadata": {
        "colab": {
          "base_uri": "https://localhost:8080/"
        },
        "id": "s2Y8kzyvE4jk",
        "outputId": "85055e3e-c463-4c58-a0ea-9075e1f0cb93"
      },
      "source": [
        "# 요청에 대한 응답처리\n",
        "resp = response.read().decode('utf-8')\n",
        "print(resp)\n",
        "print(type(resp))"
      ],
      "execution_count": 39,
      "outputs": [
        {
          "output_type": "stream",
          "text": [
            "\n",
            "<class 'str'>\n"
          ],
          "name": "stdout"
        }
      ]
    },
    {
      "cell_type": "code",
      "metadata": {
        "id": "lOXc8xxE224o"
      },
      "source": [
        "def aidata(msg) :\n",
        "  url =  \"http://svc.saltlux.ai:31781\"\n",
        "  headers={\"Content-Type\":\"application/json\" } \n",
        "\n",
        "  apiKey =  \"506c805b-404b-4996-a2a6-517bae96c052\"\n",
        "  rqData = {\n",
        "      \"key\": apiKey,\n",
        "      \"serviceId\": 11987300804,\n",
        "      \"argument\": {\n",
        "          \"type\": \"1\",\n",
        "          \"query\": msg\n",
        "      }\n",
        "  }\n",
        "  # 요청 객체 생성\n",
        "  req = Request(url, headers = headers)\n",
        "\n",
        "  # 전달 데이터 json 형태로 만들기\n",
        "  jdata = json.dumps(rqData).encode('utf-8')\n",
        "\n",
        "  #요청\n",
        "  response = urlopen(req, jdata)\n",
        "  resp = response.read().decode('utf-8')\n",
        "\n",
        "  return resp, type(resp)"
      ],
      "execution_count": 88,
      "outputs": []
    },
    {
      "cell_type": "code",
      "metadata": {
        "id": "3igv5guq3qpi",
        "outputId": "c2f181a6-719b-4e6f-d2fe-0f385a660960",
        "colab": {
          "base_uri": "https://localhost:8080/"
        }
      },
      "source": [
        "aidata('한국의 가을은 아름답군요')"
      ],
      "execution_count": 89,
      "outputs": [
        {
          "output_type": "execute_result",
          "data": {
            "text/plain": [
              "('{\"query\": \"한국의 가을은 아름답군요\", \"type\": \"감정분석\", \"Result\": [[0.9766639471054077, \"신뢰\"]]}',\n",
              " str)"
            ]
          },
          "metadata": {
            "tags": []
          },
          "execution_count": 89
        }
      ]
    },
    {
      "cell_type": "code",
      "metadata": {
        "id": "gXu_DZGO3-b5",
        "outputId": "8f04eec7-f389-494f-cb72-654f5b0952c8",
        "colab": {
          "base_uri": "https://localhost:8080/",
          "height": 54
        }
      },
      "source": [
        "aidata(input(\"감정 분석 문장을 입력하세요\"))"
      ],
      "execution_count": 42,
      "outputs": [
        {
          "output_type": "stream",
          "text": [
            "감정 분석 문장을 입력하세요당신은 아름답군요\n"
          ],
          "name": "stdout"
        },
        {
          "output_type": "execute_result",
          "data": {
            "application/vnd.google.colaboratory.intrinsic+json": {
              "type": "string"
            },
            "text/plain": [
              "'{\"query\": \"당신은 아름답군요\", \"type\": \"감정분석\", \"Result\": [[0.9790166616439819, \"신뢰\"]]}'"
            ]
          },
          "metadata": {
            "tags": []
          },
          "execution_count": 42
        }
      ]
    },
    {
      "cell_type": "markdown",
      "metadata": {
        "id": "SnjNdCN9JuqL"
      },
      "source": [
        "## 해결문제\n",
        "---\n",
        "AI Cloud의 무료 AI 서비스 중 텍스트 감정 분석 결과를 분석하여 메시지를 보내면 감정에 따른 답변을 해 보세요. <br>\n",
        "단, '그만'이나 '종료'라는 글자가 나올 때까지 계속 반복하고 AI Cloud로 요청하여 결과를 반환하는 함수를 작성하여 해결하시오.\n",
        "\n",
        "+ Open APIs 기반의 AI 서비스 : <https://www.saltlux.ai/portal/main>\n",
        "+ 감정 종류\n",
        "  + 기쁨, 신뢰, 공포, 놀라움, 슬픔, 혐오, 분노, 기대\n",
        "  + 응답예시\n",
        "  ```python\n",
        "    # 응답 메시지 \n",
        "    dtmsg = {'기쁨':'와우 기뻐요', \n",
        "         '신뢰':'당신의 말에 신뢰합니다.', \n",
        "         '공포':'무서워요', \n",
        "         '놀라움':'헉!', \n",
        "         '슬픔':'ㅠㅠ', \n",
        "         '혐오':'혐오스러워요', \n",
        "         '분노':'화나요', \n",
        "         '기대':'기대되요'}\n",
        "  ```\n",
        "\n"
      ]
    },
    {
      "cell_type": "code",
      "metadata": {
        "id": "HOXKcV2g7MFG"
      },
      "source": [
        "def aiai(msg):\n",
        "  url =  \"http://svc.saltlux.ai:31781\"\n",
        "  headers={\"Content-Type\":\"application/json\" } \n",
        "\n",
        "  apiKey =  \"506c805b-404b-4996-a2a6-517bae96c052\"\n",
        "  rqData = {\n",
        "      \"key\": apiKey,\n",
        "      \"serviceId\": 11987300804,\n",
        "      \"argument\": {\n",
        "          \"type\": \"1\",\n",
        "          \"query\": msg\n",
        "      }\n",
        "  }\n",
        "  # 요청 객체 생성\n",
        "  req = Request(url, headers = headers)\n",
        "\n",
        "  # 전달 데이터 json 형태로 만들기\n",
        "  jdata = json.dumps(rqData).encode('utf-8')\n",
        "\n",
        "  #요청\n",
        "  response = urlopen(req, jdata)\n",
        "  resp = response.read().decode('utf-8')\n",
        "\n",
        "  return resp\n",
        "\n",
        "# 응답 메시지 \n",
        "dtmsg = {'기쁨':'와우 기뻐요', \n",
        "     '신뢰':'당신의 말에 신뢰합니다.', \n",
        "     '공포':'무서워요', \n",
        "     '놀라움':'헉!', \n",
        "     '슬픔':'ㅠㅠ', \n",
        "     '혐오':'혐오스러워요', \n",
        "     '분노':'화나요', \n",
        "     '기대':'기대되요'}"
      ],
      "execution_count": 91,
      "outputs": []
    },
    {
      "cell_type": "code",
      "metadata": {
        "id": "K73Y47nB7suu",
        "outputId": "441b8c60-05fd-45b5-fe60-5880b462d3e0",
        "colab": {
          "base_uri": "https://localhost:8080/"
        }
      },
      "source": [
        "while True:\n",
        "  msg = input(\"감정 문장을 입력 : \")\n",
        "  if msg == '그만' or msg == '종료':\n",
        "    break\n",
        "  r = json.loads(aiai(msg))\n",
        "  print(dtmsg[r['Result'][0][1]])\n"
      ],
      "execution_count": 97,
      "outputs": [
        {
          "output_type": "stream",
          "text": [
            "감정 문장을 입력 : 하하\n",
            "와우 기뻐요\n",
            "감정 문장을 입력 : 헤헤\n",
            "와우 기뻐요\n",
            "감정 문장을 입력 : 히히\n",
            "와우 기뻐요\n",
            "감정 문장을 입력 : 후후\n",
            "와우 기뻐요\n",
            "감정 문장을 입력 : 호호\n",
            "와우 기뻐요\n",
            "감정 문장을 입력 : 휴휴\n",
            "와우 기뻐요\n",
            "감정 문장을 입력 : 효효\n",
            "와우 기뻐요\n",
            "감정 문장을 입력 : 햐햐\n",
            "와우 기뻐요\n",
            "감정 문장을 입력 : 카카\n",
            "와우 기뻐요\n",
            "감정 문장을 입력 : 키키\n",
            "와우 기뻐요\n",
            "감정 문장을 입력 : ㅜ쿠\n",
            "ㅠㅠ\n",
            "감정 문장을 입력 : 케케\n",
            "와우 기뻐요\n",
            "감정 문장을 입력 : 코코\n",
            "와우 기뻐요\n",
            "감정 문장을 입력 : 코건\n",
            "와우 기뻐요\n",
            "감정 문장을 입력 : 저스디스\n",
            "당신의 말에 신뢰합니다.\n",
            "감정 문장을 입력 : 그마아아아안\n",
            "당신의 말에 신뢰합니다.\n",
            "감정 문장을 입력 : 그만하시오\n",
            "화나요\n",
            "감정 문장을 입력 : 그만\n"
          ],
          "name": "stdout"
        }
      ]
    },
    {
      "cell_type": "markdown",
      "metadata": {
        "id": "IHvbSwblK-wb"
      },
      "source": [
        "&#9997; **python 노트 : 함수**\n",
        "\n",
        "\n",
        "---\n",
        "+ 특정 기능을 하나로 묶어서 따로 관리하기 위해 사용\n",
        " - 반복되는 내용을 효율적으로 처리\n",
        " - 코드의 가독성을 높임\n",
        "\n",
        "+ 함수의 종류\n",
        " - 내장함수 : 파이썬에서 기본으로 제공하는 함수\n",
        " - 모듈함수 : import를 해서 가져다가 사용할 수 있는 함수\n",
        " - 사용자정의함수 : 사용자가 함수를 직접\n",
        "\n",
        "+ **사용자 정의 함수**\n",
        "  + **사용자 정의 함수 구조**\n",
        "```python\n",
        "def 함수명(매개변수1, 매개변수2....) :\n",
        "       명령문\n",
        "       명령문 \n",
        "       return 반환값1 ....\n",
        "```\n",
        "  * 함수 호출\n",
        "    + 반환값이 없을 경우 : 함수명(인수)\n",
        "    + 반환값이 있을 경우 : 변수명 = 함수명(인수)\n",
        "  * **스크립트 파일이 메인 프로그램으로 사용될 때와 모듈로 사용될 때를 구분하기 위한 용도**\n",
        "```\n",
        "if __name__ == '__main__':\n",
        "     메인 수행문\n",
        "```\n",
        " \n",
        "\n",
        "---\n",
        "\n",
        "\n"
      ]
    },
    {
      "cell_type": "code",
      "metadata": {
        "colab": {
          "base_uri": "https://localhost:8080/"
        },
        "id": "haghdgz-Hu4f",
        "outputId": "26b8c20b-bc57-4e07-e845-cc41577f18c6"
      },
      "source": [
        ""
      ],
      "execution_count": null,
      "outputs": [
        {
          "output_type": "stream",
          "text": [
            "[메시지입력]여성이 나이 들수록 코 많이 고는 이유는?\n",
            "[대답] 잘 모르겠어요...\n",
            "[메시지입력]배가 고파요\n",
            "[대답] 잘 모르겠어요...\n",
            "[메시지입력]당신은 너무 이뻐요\n",
            "[대답]당신의 말에 신뢰합니다.\n",
            "[메시지입력]종료할래요\n"
          ],
          "name": "stdout"
        }
      ]
    }
  ]
}